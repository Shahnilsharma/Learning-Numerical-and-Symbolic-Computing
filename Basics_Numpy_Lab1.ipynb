{
  "nbformat": 4,
  "nbformat_minor": 0,
  "metadata": {
    "colab": {
      "provenance": [],
      "authorship_tag": "ABX9TyOxsoXqjkBOtzH/qFv5uJ4f",
      "include_colab_link": true
    },
    "kernelspec": {
      "name": "python3",
      "display_name": "Python 3"
    },
    "language_info": {
      "name": "python"
    }
  },
  "cells": [
    {
      "cell_type": "markdown",
      "metadata": {
        "id": "view-in-github",
        "colab_type": "text"
      },
      "source": [
        "<a href=\"https://colab.research.google.com/github/Shahnilsharma/Learning-Numerical-and-Symbolic-Computing/blob/main/Basics_Numpy_Lab1.ipynb\" target=\"_parent\"><img src=\"https://colab.research.google.com/assets/colab-badge.svg\" alt=\"Open In Colab\"/></a>"
      ]
    },
    {
      "cell_type": "code",
      "execution_count": 1,
      "metadata": {
        "colab": {
          "base_uri": "https://localhost:8080/"
        },
        "id": "GQcFJs2Fz5IR",
        "outputId": "cd1f6c38-ed56-4e78-c187-114687fc9ca2"
      },
      "outputs": [
        {
          "output_type": "stream",
          "name": "stdout",
          "text": [
            "Addition [11 22 33]\n",
            "Multiplication [10 40 90]\n",
            "square root [3.16227766 4.47213595 5.47722558]\n"
          ]
        }
      ],
      "source": [
        "import numpy as np\n",
        "x= np.array([10,20,30]);\n",
        "y=np.array([1,2,3])\n",
        "\n",
        "print(\"Addition\", x+y)\n",
        "print(\"Multiplication\",x*y)\n",
        "print(\"square root\", np.sqrt(x))"
      ]
    },
    {
      "cell_type": "code",
      "source": [
        "import numpy as np\n",
        "a = np.array([1, 2, 3, 4, 5])\n",
        "print(\"1D Array:\", a)\n",
        "b = np.array([[1, 2], [3, 4]])\n",
        "print(\"2D Array:\\n\", b)"
      ],
      "metadata": {
        "colab": {
          "base_uri": "https://localhost:8080/"
        },
        "id": "Qn0KDetW2ZMK",
        "outputId": "6e8ce129-f5e6-49dc-82e4-ac859dbc2eec"
      },
      "execution_count": 2,
      "outputs": [
        {
          "output_type": "stream",
          "name": "stdout",
          "text": [
            "1D Array: [1 2 3 4 5]\n",
            "2D Array:\n",
            " [[1 2]\n",
            " [3 4]]\n"
          ]
        }
      ]
    },
    {
      "cell_type": "code",
      "source": [
        "import numpy as np\n",
        "arr = np.array([[1,2,3],[4,5,6]])\n",
        "print(\"shape \", arr.shape)\n",
        "print(\"size\",arr.size)\n",
        "print(\"type\", arr.dtype)"
      ],
      "metadata": {
        "colab": {
          "base_uri": "https://localhost:8080/"
        },
        "id": "QOfJSwAv3hzs",
        "outputId": "51edc8a4-8e03-4fe2-afc8-99c6ac0afc9c"
      },
      "execution_count": 5,
      "outputs": [
        {
          "output_type": "stream",
          "name": "stdout",
          "text": [
            "shape  (2, 3)\n",
            "size 6\n",
            "type int64\n"
          ]
        }
      ]
    },
    {
      "cell_type": "code",
      "source": [
        "import numpy as np\n",
        "\n",
        "a = np.arange(1,11)\n",
        "b = a.reshape((2,5))\n",
        "\n",
        "print(\"reshaped:\\n\",b)\n",
        "print(\"flattened:\",b.flatten())"
      ],
      "metadata": {
        "colab": {
          "base_uri": "https://localhost:8080/"
        },
        "id": "RyfZ3hCp4PtE",
        "outputId": "0f34e0ff-8dd5-4be7-b97f-2d4f3285a4cd"
      },
      "execution_count": 10,
      "outputs": [
        {
          "output_type": "stream",
          "name": "stdout",
          "text": [
            "reshaped:\n",
            " [[ 1  2  3  4  5]\n",
            " [ 6  7  8  9 10]]\n",
            "flattened: [ 1  2  3  4  5  6  7  8  9 10]\n"
          ]
        }
      ]
    },
    {
      "cell_type": "code",
      "source": [],
      "metadata": {
        "id": "y8VbkfXB6xZk"
      },
      "execution_count": null,
      "outputs": []
    },
    {
      "cell_type": "code",
      "source": [
        "import numpy as np\n",
        "zeros=np.zeros((2,2))\n",
        "ones=np.ones((2,2))\n",
        "identify = np.eye(3)\n",
        "print(\"zeros:\\n\",zeros)\n",
        "print(\"ones:\\n\",ones)\n",
        "print(\"identify: \\n\",identify)"
      ],
      "metadata": {
        "colab": {
          "base_uri": "https://localhost:8080/"
        },
        "id": "tQBsuLlz5kbs",
        "outputId": "664db16c-93cd-42ef-c4e8-f3132f5f9daf"
      },
      "execution_count": 15,
      "outputs": [
        {
          "output_type": "stream",
          "name": "stdout",
          "text": [
            "zeros:\n",
            " [[0. 0.]\n",
            " [0. 0.]]\n",
            "ones:\n",
            " [[1. 1.]\n",
            " [1. 1.]]\n",
            "identify: \n",
            " [[1. 0. 0.]\n",
            " [0. 1. 0.]\n",
            " [0. 0. 1.]]\n"
          ]
        }
      ]
    },
    {
      "cell_type": "code",
      "source": [
        "data = np.array([10,20,30,40,50])\n",
        "print(\"mean\",np.mean(data))\n",
        "print(\"max\",np.max(data))\n",
        "print(\"standard deviation\",np.std(data))"
      ],
      "metadata": {
        "colab": {
          "base_uri": "https://localhost:8080/"
        },
        "id": "ujmo4brp6yO5",
        "outputId": "84ae0c05-c4dd-4524-cca6-e8f9a02b29f2"
      },
      "execution_count": 16,
      "outputs": [
        {
          "output_type": "stream",
          "name": "stdout",
          "text": [
            "mean 30.0\n",
            "max 50\n",
            "standard deviation 14.142135623730951\n"
          ]
        }
      ]
    },
    {
      "cell_type": "code",
      "source": [
        "import numpy as np\n",
        "\n",
        "# 1. Create a simple 1D array using np.array()\n",
        "array_1d = np.array([1, 2, 3, 4, 5])\n",
        "print(\"1. 1D Array:\")\n",
        "print(array_1d)\n",
        "\n",
        "# 2. Create a 3x3 array of zeros\n",
        "zeros_array = np.zeros((3, 3))\n",
        "print(\"\\n2. 3x3 Array of Zeros:\")\n",
        "print(zeros_array)\n",
        "\n",
        "# 3. Create a 2x4 array of ones\n",
        "ones_array = np.ones((2, 4))\n",
        "print(\"\\n3. 2x4 Array of Ones:\")\n",
        "print(ones_array)\n",
        "\n",
        "# 4. Create a 4x4 identity matrix\n",
        "identity_matrix = np.eye(4)\n",
        "print(\"\\n4. Identity Matrix (4x4):\")\n",
        "print(identity_matrix)\n",
        "\n",
        "# 5. Create a range of numbers from 0 to 8 with a step of 2\n",
        "range_array = np.arange(0, 10, 2)\n",
        "print(\"\\n5. Array using arange (0 to 8 step 2):\")\n",
        "print(range_array)\n",
        "\n",
        "# 6. Create 5 evenly spaced numbers between 0 and 1\n",
        "linspace_array = np.linspace(0, 1, 5)\n",
        "print(\"\\n6. Evenly spaced values from 0 to 1 (linspace):\")\n",
        "print(linspace_array)\n",
        "\n",
        "# 7. Reshape a 1D array into a 2D matrix\n",
        "original_array = np.array([1, 2, 3, 4, 5, 6])\n",
        "reshaped_array = original_array.reshape((2, 3))\n",
        "print(\"\\n7. Reshaped Array (2 rows, 3 columns):\")\n",
        "print(reshaped_array)\n",
        "\n",
        "# 8. Perform element-wise addition\n",
        "a = np.array([10, 20, 30])\n",
        "b = np.array([1, 2, 3])\n",
        "sum_array = a + b\n",
        "print(\"\\n8. Element-wise Addition:\")\n",
        "print(sum_array)\n",
        "\n",
        "# 9. Matrix multiplication using dot product\n",
        "mat1 = np.array([[1, 2], [3, 4]])\n",
        "mat2 = np.array([[5, 6], [7, 8]])\n",
        "dot_product = np.dot(mat1, mat2)\n",
        "print(\"\\n9. Matrix Multiplication (dot product):\")\n",
        "print(dot_product)\n",
        "\n",
        "# 10. Find maximum, minimum, and mean of an array\n",
        "sample_array = np.array([5, 10, 15, 20])\n",
        "print(\"\\n10. Array Stats (max, min, mean):\")\n",
        "print(\"Max:\", np.max(sample_array))\n",
        "print(\"Min:\", np.min(sample_array))\n",
        "print(\"Mean:\", np.mean(sample_array))"
      ],
      "metadata": {
        "colab": {
          "base_uri": "https://localhost:8080/"
        },
        "id": "rU6WAyrb78oB",
        "outputId": "1444a2b0-e1a3-4a33-a556-a98974aef563"
      },
      "execution_count": 17,
      "outputs": [
        {
          "output_type": "stream",
          "name": "stdout",
          "text": [
            "1. 1D Array:\n",
            "[1 2 3 4 5]\n",
            "\n",
            "2. 3x3 Array of Zeros:\n",
            "[[0. 0. 0.]\n",
            " [0. 0. 0.]\n",
            " [0. 0. 0.]]\n",
            "\n",
            "3. 2x4 Array of Ones:\n",
            "[[1. 1. 1. 1.]\n",
            " [1. 1. 1. 1.]]\n",
            "\n",
            "4. Identity Matrix (4x4):\n",
            "[[1. 0. 0. 0.]\n",
            " [0. 1. 0. 0.]\n",
            " [0. 0. 1. 0.]\n",
            " [0. 0. 0. 1.]]\n",
            "\n",
            "5. Array using arange (0 to 8 step 2):\n",
            "[0 2 4 6 8]\n",
            "\n",
            "6. Evenly spaced values from 0 to 1 (linspace):\n",
            "[0.   0.25 0.5  0.75 1.  ]\n",
            "\n",
            "7. Reshaped Array (2 rows, 3 columns):\n",
            "[[1 2 3]\n",
            " [4 5 6]]\n",
            "\n",
            "8. Element-wise Addition:\n",
            "[11 22 33]\n",
            "\n",
            "9. Matrix Multiplication (dot product):\n",
            "[[19 22]\n",
            " [43 50]]\n",
            "\n",
            "10. Array Stats (max, min, mean):\n",
            "Max: 20\n",
            "Min: 5\n",
            "Mean: 12.5\n"
          ]
        }
      ]
    },
    {
      "cell_type": "code",
      "source": [],
      "metadata": {
        "id": "hprMeJvA8Hp7"
      },
      "execution_count": null,
      "outputs": []
    }
  ]
}