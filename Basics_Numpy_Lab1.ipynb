{
  "nbformat": 4,
  "nbformat_minor": 0,
  "metadata": {
    "colab": {
      "provenance": [],
      "include_colab_link": true
    },
    "kernelspec": {
      "name": "python3",
      "display_name": "Python 3"
    },
    "language_info": {
      "name": "python"
    }
  },
  "cells": [
    {
      "cell_type": "markdown",
      "metadata": {
        "id": "view-in-github",
        "colab_type": "text"
      },
      "source": [
        "<a href=\"https://colab.research.google.com/github/Shahnilsharma/Learning-Numerical-and-Symbolic-Computing/blob/main/Basics_Numpy_Lab1.ipynb\" target=\"_parent\"><img src=\"https://colab.research.google.com/assets/colab-badge.svg\" alt=\"Open In Colab\"/></a>"
      ]
    },
    {
      "cell_type": "markdown",
      "source": [
        "This task demonstrates basic operations using the NumPy library in Python. Two arrays, `x` and `y`, are defined with integer elements. The code performs element-wise addition and multiplication of these arrays, showcasing NumPy's ability to handle arithmetic operations efficiently. Additionally, it computes the square root of each element in array `x` using the `np.sqrt` function. The outputs illustrate fundamental vectorized operations common in numerical computing."
      ],
      "metadata": {
        "id": "QTthbUpJBHPp"
      }
    },
    {
      "cell_type": "code",
      "execution_count": null,
      "metadata": {
        "colab": {
          "base_uri": "https://localhost:8080/"
        },
        "id": "GQcFJs2Fz5IR",
        "outputId": "cd1f6c38-ed56-4e78-c187-114687fc9ca2"
      },
      "outputs": [
        {
          "output_type": "stream",
          "name": "stdout",
          "text": [
            "Addition [11 22 33]\n",
            "Multiplication [10 40 90]\n",
            "square root [3.16227766 4.47213595 5.47722558]\n"
          ]
        }
      ],
      "source": [
        "import numpy as np\n",
        "x= np.array([10,20,30]);\n",
        "y=np.array([1,2,3])\n",
        "\n",
        "print(\"Addition\", x+y)\n",
        "print(\"Multiplication\",x*y)\n",
        "print(\"square root\", np.sqrt(x))"
      ]
    },
    {
      "cell_type": "markdown",
      "source": [
        "In this task, the NumPy library was utilized to create and display one-dimensional and two-dimensional arrays. Initially, a one-dimensional array containing five integer elements was generated and printed. Subsequently, a two-dimensional array, structured as a 2x2 matrix, was created and displayed. This exercise demonstrates the fundamental array creation and printing capabilities provided by the NumPy library in Python.\n",
        "\n"
      ],
      "metadata": {
        "id": "2t---eNdBRdI"
      }
    },
    {
      "cell_type": "code",
      "source": [
        "import numpy as np\n",
        "a = np.array([1, 2, 3, 4, 5])\n",
        "print(\"1D Array:\", a)\n",
        "b = np.array([[1, 2], [3, 4]])\n",
        "print(\"2D Array:\\n\", b)"
      ],
      "metadata": {
        "colab": {
          "base_uri": "https://localhost:8080/"
        },
        "id": "Qn0KDetW2ZMK",
        "outputId": "6e8ce129-f5e6-49dc-82e4-ac859dbc2eec"
      },
      "execution_count": null,
      "outputs": [
        {
          "output_type": "stream",
          "name": "stdout",
          "text": [
            "1D Array: [1 2 3 4 5]\n",
            "2D Array:\n",
            " [[1 2]\n",
            " [3 4]]\n"
          ]
        }
      ]
    },
    {
      "cell_type": "markdown",
      "source": [
        "In this task, a two-dimensional NumPy array was created with the elements [, [4,The code then retrieves and prints three important attributes of the array: its shape, which indicates the array's dimensions (number of rows and columns); its size, representing the total number of elements in the array; and its data type, specifying the type of elements stored within the array. This exercise showcases basic inspection methods for understanding the structure and properties of NumPy arrays.\n"
      ],
      "metadata": {
        "id": "Gncczh2UBZST"
      }
    },
    {
      "cell_type": "code",
      "source": [
        "import numpy as np\n",
        "arr = np.array([[1,2,3],[4,5,6]])\n",
        "print(\"shape \", arr.shape)\n",
        "print(\"size\",arr.size)\n",
        "print(\"type\", arr.dtype)"
      ],
      "metadata": {
        "colab": {
          "base_uri": "https://localhost:8080/"
        },
        "id": "QOfJSwAv3hzs",
        "outputId": "51edc8a4-8e03-4fe2-afc8-99c6ac0afc9c"
      },
      "execution_count": null,
      "outputs": [
        {
          "output_type": "stream",
          "name": "stdout",
          "text": [
            "shape  (2, 3)\n",
            "size 6\n",
            "type int64\n"
          ]
        }
      ]
    },
    {
      "cell_type": "markdown",
      "source": [
        "In this task, a one-dimensional NumPy array containing integers from 1 to 10 was created using the arange function. The array was then reshaped into a two-dimensional array with 2 rows and 5 columns using the reshape method. The reshaped array was printed, followed by printing its flattened version, which converts the two-dimensional array back into a one-dimensional array using the flatten method. This exercise demonstrates array creation, reshaping, and flattening techniques in NumPy to manipulate array dimensions effectively."
      ],
      "metadata": {
        "id": "rhNB7fG2BmLF"
      }
    },
    {
      "cell_type": "code",
      "source": [
        "import numpy as np\n",
        "\n",
        "a = np.arange(1,11)\n",
        "b = a.reshape((2,5))\n",
        "\n",
        "print(\"reshaped:\\n\",b)\n",
        "print(\"flattened:\",b.flatten())"
      ],
      "metadata": {
        "colab": {
          "base_uri": "https://localhost:8080/"
        },
        "id": "RyfZ3hCp4PtE",
        "outputId": "0f34e0ff-8dd5-4be7-b97f-2d4f3285a4cd"
      },
      "execution_count": null,
      "outputs": [
        {
          "output_type": "stream",
          "name": "stdout",
          "text": [
            "reshaped:\n",
            " [[ 1  2  3  4  5]\n",
            " [ 6  7  8  9 10]]\n",
            "flattened: [ 1  2  3  4  5  6  7  8  9 10]\n"
          ]
        }
      ]
    },
    {
      "cell_type": "markdown",
      "source": [
        "In this task, several specialized NumPy arrays were created and displayed to demonstrate different initialization methods. A 2x2 array of zeros was created using the zeros function, followed by a 2x2 array of ones generated with the ones function. Additionally, an identity matrix of size 3x3 was created using the eye function. These arrays were then printed to illustrate the various ways NumPy can be used to initialize arrays with specific values or structures commonly used in numerical computing.a"
      ],
      "metadata": {
        "id": "2K9WedeXBtHs"
      }
    },
    {
      "cell_type": "code",
      "source": [
        "import numpy as np\n",
        "zeros=np.zeros((2,2))\n",
        "ones=np.ones((2,2))\n",
        "identify = np.eye(3)\n",
        "print(\"zeros:\\n\",zeros)\n",
        "print(\"ones:\\n\",ones)\n",
        "print(\"identify: \\n\",identify)"
      ],
      "metadata": {
        "colab": {
          "base_uri": "https://localhost:8080/"
        },
        "id": "tQBsuLlz5kbs",
        "outputId": "664db16c-93cd-42ef-c4e8-f3132f5f9daf"
      },
      "execution_count": null,
      "outputs": [
        {
          "output_type": "stream",
          "name": "stdout",
          "text": [
            "zeros:\n",
            " [[0. 0.]\n",
            " [0. 0.]]\n",
            "ones:\n",
            " [[1. 1.]\n",
            " [1. 1.]]\n",
            "identify: \n",
            " [[1. 0. 0.]\n",
            " [0. 1. 0.]\n",
            " [0. 0. 1.]]\n"
          ]
        }
      ]
    },
    {
      "cell_type": "markdown",
      "source": [
        "In this task, a one-dimensional NumPy array containing five integer elements was created. The code computes and prints three key statistical measures of the array's data: the mean, which represents the average value; the maximum, indicating the largest element in the array; and the standard deviation, which quantifies the amount of variation or dispersion of the data. This exercise demonstrates how to perform basic statistical analysis on numerical data using NumPy functions.\n",
        "\n",
        "\n"
      ],
      "metadata": {
        "id": "Y4zurQB9B2e4"
      }
    },
    {
      "cell_type": "code",
      "source": [
        "data = np.array([10,20,30,40,50])\n",
        "print(\"mean\",np.mean(data))\n",
        "print(\"max\",np.max(data))\n",
        "print(\"standard deviation\",np.std(data))"
      ],
      "metadata": {
        "colab": {
          "base_uri": "https://localhost:8080/"
        },
        "id": "ujmo4brp6yO5",
        "outputId": "84ae0c05-c4dd-4524-cca6-e8f9a02b29f2"
      },
      "execution_count": null,
      "outputs": [
        {
          "output_type": "stream",
          "name": "stdout",
          "text": [
            "mean 30.0\n",
            "max 50\n",
            "standard deviation 14.142135623730951\n"
          ]
        }
      ]
    },
    {
      "cell_type": "markdown",
      "source": [
        "This task covers fundamental NumPy operations including creating arrays, generating sequences, reshaping arrays, element-wise addition, matrix multiplication, and computing basic statistics. It highlights essential techniques for array manipulation and analysis in scientific computing."
      ],
      "metadata": {
        "id": "a6EgtPhwB_GN"
      }
    },
    {
      "cell_type": "code",
      "source": [
        "import numpy as np\n",
        "\n",
        "# 1. Create a simple 1D array using np.array()\n",
        "array_1d = np.array([1, 2, 3, 4, 5])\n",
        "print(\"1. 1D Array:\")\n",
        "print(array_1d)\n",
        "\n",
        "# 2. Create a 3x3 array of zeros\n",
        "zeros_array = np.zeros((3, 3))\n",
        "print(\"\\n2. 3x3 Array of Zeros:\")\n",
        "print(zeros_array)\n",
        "\n",
        "# 3. Create a 2x4 array of ones\n",
        "ones_array = np.ones((2, 4))\n",
        "print(\"\\n3. 2x4 Array of Ones:\")\n",
        "print(ones_array)\n",
        "\n",
        "# 4. Create a 4x4 identity matrix\n",
        "identity_matrix = np.eye(4)\n",
        "print(\"\\n4. Identity Matrix (4x4):\")\n",
        "print(identity_matrix)\n",
        "\n",
        "# 5. Create a range of numbers from 0 to 8 with a step of 2\n",
        "range_array = np.arange(0, 10, 2)\n",
        "print(\"\\n5. Array using arange (0 to 8 step 2):\")\n",
        "print(range_array)\n",
        "\n",
        "# 6. Create 5 evenly spaced numbers between 0 and 1\n",
        "linspace_array = np.linspace(0, 1, 5)\n",
        "print(\"\\n6. Evenly spaced values from 0 to 1 (linspace):\")\n",
        "print(linspace_array)\n",
        "\n",
        "# 7. Reshape a 1D array into a 2D matrix\n",
        "original_array = np.array([1, 2, 3, 4, 5, 6])\n",
        "reshaped_array = original_array.reshape((2, 3))\n",
        "print(\"\\n7. Reshaped Array (2 rows, 3 columns):\")\n",
        "print(reshaped_array)\n",
        "\n",
        "# 8. Perform element-wise addition\n",
        "a = np.array([10, 20, 30])\n",
        "b = np.array([1, 2, 3])\n",
        "sum_array = a + b\n",
        "print(\"\\n8. Element-wise Addition:\")\n",
        "print(sum_array)\n",
        "\n",
        "# 9. Matrix multiplication using dot product\n",
        "mat1 = np.array([[1, 2], [3, 4]])\n",
        "mat2 = np.array([[5, 6], [7, 8]])\n",
        "dot_product = np.dot(mat1, mat2)\n",
        "print(\"\\n9. Matrix Multiplication (dot product):\")\n",
        "print(dot_product)\n",
        "\n",
        "# 10. Find maximum, minimum, and mean of an array\n",
        "sample_array = np.array([5, 10, 15, 20])\n",
        "print(\"\\n10. Array Stats (max, min, mean):\")\n",
        "print(\"Max:\", np.max(sample_array))\n",
        "print(\"Min:\", np.min(sample_array))\n",
        "print(\"Mean:\", np.mean(sample_array))"
      ],
      "metadata": {
        "colab": {
          "base_uri": "https://localhost:8080/"
        },
        "id": "rU6WAyrb78oB",
        "outputId": "1444a2b0-e1a3-4a33-a556-a98974aef563"
      },
      "execution_count": null,
      "outputs": [
        {
          "output_type": "stream",
          "name": "stdout",
          "text": [
            "1. 1D Array:\n",
            "[1 2 3 4 5]\n",
            "\n",
            "2. 3x3 Array of Zeros:\n",
            "[[0. 0. 0.]\n",
            " [0. 0. 0.]\n",
            " [0. 0. 0.]]\n",
            "\n",
            "3. 2x4 Array of Ones:\n",
            "[[1. 1. 1. 1.]\n",
            " [1. 1. 1. 1.]]\n",
            "\n",
            "4. Identity Matrix (4x4):\n",
            "[[1. 0. 0. 0.]\n",
            " [0. 1. 0. 0.]\n",
            " [0. 0. 1. 0.]\n",
            " [0. 0. 0. 1.]]\n",
            "\n",
            "5. Array using arange (0 to 8 step 2):\n",
            "[0 2 4 6 8]\n",
            "\n",
            "6. Evenly spaced values from 0 to 1 (linspace):\n",
            "[0.   0.25 0.5  0.75 1.  ]\n",
            "\n",
            "7. Reshaped Array (2 rows, 3 columns):\n",
            "[[1 2 3]\n",
            " [4 5 6]]\n",
            "\n",
            "8. Element-wise Addition:\n",
            "[11 22 33]\n",
            "\n",
            "9. Matrix Multiplication (dot product):\n",
            "[[19 22]\n",
            " [43 50]]\n",
            "\n",
            "10. Array Stats (max, min, mean):\n",
            "Max: 20\n",
            "Min: 5\n",
            "Mean: 12.5\n"
          ]
        }
      ]
    },
    {
      "cell_type": "code",
      "source": [],
      "metadata": {
        "id": "hprMeJvA8Hp7"
      },
      "execution_count": null,
      "outputs": []
    }
  ]
}